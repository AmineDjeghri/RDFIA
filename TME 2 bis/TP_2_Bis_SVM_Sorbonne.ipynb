{
  "nbformat": 4,
  "nbformat_minor": 0,
  "metadata": {
    "colab": {
      "name": "TP 2-Bis SVM - Sorbonne.ipynb",
      "provenance": [],
      "collapsed_sections": []
    },
    "kernelspec": {
      "name": "python3",
      "display_name": "Python 3"
    }
  },
  "cells": [
    {
      "cell_type": "code",
      "metadata": {
        "id": "QK8of_MGVV2M"
      },
      "source": [
        "!wget http://webia.lip6.fr/~douillard/rdfia/15_scenes_Xy.npz"
      ],
      "execution_count": null,
      "outputs": []
    },
    {
      "cell_type": "code",
      "metadata": {
        "id": "PH3AHmt_WAOs"
      },
      "source": [
        "%pylab inline\n",
        "\n",
        "import matplotlib.pyplot as plt\n",
        "import numpy as np\n",
        "from sklearn.svm import SVC\n",
        "from sklearn.model_selection import KFold, train_test_split"
      ],
      "execution_count": null,
      "outputs": []
    },
    {
      "cell_type": "markdown",
      "metadata": {
        "id": "A6TfY3K0W8MM"
      },
      "source": [
        "Loading BoW of the whole dataset (4485 images, thus 4485 dictionnary of 1001 words):"
      ]
    },
    {
      "cell_type": "code",
      "metadata": {
        "id": "FWLV0po7WO1E"
      },
      "source": [
        "data = np.load(\"15_scenes_Xy.npz\")\n",
        "X = data[\"X\"]\n",
        "y = data[\"y\"]\n",
        "\n",
        "X.shape, y.shape"
      ],
      "execution_count": null,
      "outputs": []
    },
    {
      "cell_type": "markdown",
      "metadata": {
        "id": "Sfh5x5kYXFcY"
      },
      "source": [
        "Let's see what is the class distribution:"
      ]
    },
    {
      "cell_type": "code",
      "metadata": {
        "id": "RqNSdTTkWiPQ"
      },
      "source": [
        "{c: nb for c, nb in enumerate(np.bincount(y))}"
      ],
      "execution_count": null,
      "outputs": []
    },
    {
      "cell_type": "markdown",
      "metadata": {
        "id": "MVUjgR30X7pI"
      },
      "source": [
        "Split the dataset into a train & test set:"
      ]
    },
    {
      "cell_type": "code",
      "metadata": {
        "id": "AO4XiNupWjVk"
      },
      "source": [
        "#TODO = train_test_split(#TODO)"
      ],
      "execution_count": null,
      "outputs": []
    },
    {
      "cell_type": "markdown",
      "metadata": {
        "id": "SsnJDa_IYdmk"
      },
      "source": [
        "Then a validation set from the train set:"
      ]
    },
    {
      "cell_type": "code",
      "metadata": {
        "id": "jjX3N-35YcFs"
      },
      "source": [
        "#TODO = train_test_split(#TODO)"
      ],
      "execution_count": null,
      "outputs": []
    },
    {
      "cell_type": "markdown",
      "metadata": {
        "id": "NHlcmt-SYBKQ"
      },
      "source": [
        "Let's KFold over different values of `C`:"
      ]
    },
    {
      "cell_type": "code",
      "metadata": {
        "id": "F9wZ9l5FX_QY"
      },
      "source": [
        "C_values = [#TODO]\n",
        "accuracies = []\n",
        "\n",
        "for c in C_values:\n",
        "  print(f'Training SVM with C={c}')\n",
        "  #TODO\n",
        "\n",
        "  # Fit on sub-train set\n",
        "  # TODO\n",
        "\n",
        "  # Evaluate on val set\n",
        "  # TODO\n",
        "\n",
        "  print(f'--> accuracy = {acc}')"
      ],
      "execution_count": null,
      "outputs": []
    },
    {
      "cell_type": "code",
      "metadata": {
        "id": "a8md3e7iZN5M"
      },
      "source": [
        "#TODO plot the relation between `c` and the accuracy"
      ],
      "execution_count": null,
      "outputs": []
    },
    {
      "cell_type": "code",
      "metadata": {
        "id": "SK7WWSltbJbc"
      },
      "source": [
        "#TODO Fit on the whole train set, evaluate on the test set "
      ],
      "execution_count": null,
      "outputs": []
    },
    {
      "cell_type": "markdown",
      "metadata": {
        "id": "iCRk9QaGbiuM"
      },
      "source": [
        "Do the same with different kernel values, and different decision functions:"
      ]
    },
    {
      "cell_type": "code",
      "metadata": {
        "id": "Pwd0BdIhbR5o"
      },
      "source": [
        "# TODO"
      ],
      "execution_count": null,
      "outputs": []
    }
  ]
}